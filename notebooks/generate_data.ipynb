{
 "cells": [
  {
   "cell_type": "code",
   "execution_count": 1,
   "id": "eef4279b",
   "metadata": {
    "ExecuteTime": {
     "end_time": "2021-12-06T22:45:07.713354Z",
     "start_time": "2021-12-06T22:45:05.573354Z"
    }
   },
   "outputs": [],
   "source": [
    "import sys\n",
    "import os\n",
    "\n",
    "sys.path.append(\"../src/data/\")\n",
    "\n",
    "from preprocess_dataset import preprocess_dataset\n",
    "from split_test_dataset import train_test_split, time_split"
   ]
  },
  {
   "cell_type": "code",
   "execution_count": 2,
   "id": "974e23af",
   "metadata": {
    "ExecuteTime": {
     "end_time": "2021-12-05T23:31:30.851112Z",
     "start_time": "2021-12-05T23:30:24.293286Z"
    }
   },
   "outputs": [
    {
     "name": "stdout",
     "output_type": "stream",
     "text": [
      "Preprocess lastfm...\n"
     ]
    },
    {
     "name": "stderr",
     "output_type": "stream",
     "text": [
      "1293103it [00:07, 180654.23it/s]\n",
      "17399it [00:00, 173252.84it/s]"
     ]
    },
    {
     "name": "stdout",
     "output_type": "stream",
     "text": [
      "Preprocess mooc...\n"
     ]
    },
    {
     "name": "stderr",
     "output_type": "stream",
     "text": [
      "411749it [00:02, 152050.52it/s]\n",
      "2707it [00:00, 26804.87it/s]"
     ]
    },
    {
     "name": "stdout",
     "output_type": "stream",
     "text": [
      "Preprocess reddit...\n"
     ]
    },
    {
     "name": "stderr",
     "output_type": "stream",
     "text": [
      "672447it [00:29, 22969.91it/s]\n",
      "5208it [00:00, 25903.94it/s]"
     ]
    },
    {
     "name": "stdout",
     "output_type": "stream",
     "text": [
      "Preprocess wikipedia...\n"
     ]
    },
    {
     "name": "stderr",
     "output_type": "stream",
     "text": [
      "157474it [00:06, 24719.95it/s]\n"
     ]
    }
   ],
   "source": [
    "preprocess_dataset(data='../data', bipartite=True)"
   ]
  },
  {
   "cell_type": "code",
   "execution_count": 3,
   "id": "9c2a4526",
   "metadata": {
    "ExecuteTime": {
     "end_time": "2021-12-05T23:32:30.894758Z",
     "start_time": "2021-12-05T23:31:31.242293Z"
    }
   },
   "outputs": [
    {
     "name": "stdout",
     "output_type": "stream",
     "text": [
      "Split lastfm...\n",
      "Ratio of new edges in the test set: 0.22523306305365767\n",
      "Ratio of negative samples:  0.8806748098568948\n",
      "Ratio of negative samples:  1.0549220674268525\n",
      "Split mooc...\n",
      "Ratio of new edges in the test set: 0.12769729572197058\n",
      "Ratio of negative samples:  0.4871707690252699\n",
      "Ratio of negative samples:  0.5796772352491166\n",
      "Ratio of negative samples:  0.6766280919478816\n",
      "Ratio of negative samples:  0.7738096683707545\n",
      "Ratio of negative samples:  0.8699712207502034\n",
      "Ratio of negative samples:  0.9679542446357664\n",
      "Ratio of negative samples:  1.0638365047176113\n",
      "Split reddit...\n",
      "Ratio of new edges in the test set: 0.1300691501226857\n",
      "Ratio of negative samples:  1.1594914120008923\n",
      "Split wikipedia...\n",
      "Ratio of new edges in the test set: 0.18675980314335608\n",
      "Ratio of negative samples:  1.227718685505636\n"
     ]
    }
   ],
   "source": [
    "train_test_split(data='../data')"
   ]
  },
  {
   "cell_type": "code",
   "execution_count": 2,
   "id": "6763ef13",
   "metadata": {
    "ExecuteTime": {
     "end_time": "2021-12-06T22:50:12.140235Z",
     "start_time": "2021-12-06T22:45:11.422355Z"
    }
   },
   "outputs": [
    {
     "name": "stdout",
     "output_type": "stream",
     "text": [
      "Split lastfm by timestamps...\n",
      "\tRatio of new edges in the test set: 0.1091562910834429\n",
      "\tRatio of negative samples:  0.923710463227902\n",
      "\tRatio of negative samples:  1.1054056144149718\n",
      "\tRatio of new edges in the test set: 0.13941303843476915\n",
      "\tRatio of negative samples:  0.960366560977496\n",
      "\tRatio of negative samples:  1.1519990719975253\n",
      "\tRatio of new edges in the test set: 0.1291856778284742\n",
      "\tRatio of negative samples:  0.9386229474389709\n",
      "\tRatio of negative samples:  1.1300492356868508\n",
      "\tRatio of new edges in the test set: 0.1540082552755464\n",
      "\tRatio of negative samples:  0.9361521136018714\n",
      "\tRatio of negative samples:  1.1188121683148218\n",
      "\tRatio of new edges in the test set: 0.16123918305480586\n",
      "\tRatio of negative samples:  0.9384893783204832\n",
      "\tRatio of negative samples:  1.1259598951365313\n",
      "\tRatio of new edges in the test set: 0.11762355564434535\n",
      "\tRatio of negative samples:  0.9200118577329819\n",
      "\tRatio of negative samples:  1.1037680524318019\n",
      "\tRatio of new edges in the test set: 0.12825696688485652\n",
      "\tRatio of negative samples:  0.9015825669069517\n",
      "\tRatio of negative samples:  1.0815532908001215\n",
      "\tRatio of new edges in the test set: 0.1594078212830539\n",
      "\tRatio of negative samples:  0.8711291125535895\n",
      "\tRatio of negative samples:  1.0440654045249569\n",
      "\tRatio of new edges in the test set: 0.18598636357777787\n",
      "\tRatio of negative samples:  0.8771733853470758\n",
      "\tRatio of negative samples:  1.053407172225349\n",
      "\tRatio of new edges in the test set: 0.22523306305365767\n",
      "\tRatio of negative samples:  0.8804814767555612\n",
      "\tRatio of negative samples:  1.0566929986350684\n",
      "Split mooc by timestamps...\n",
      "!!! The number of new edges in the dataset is too high. The ratio is 0.5369673424790579\n",
      "\tRatio of new edges in the test set: 0.5369673424790579\n",
      "\tRatio of negative samples:  0.3353162559184169\n",
      "\tRatio of negative samples:  0.4142284812431711\n",
      "\tRatio of negative samples:  0.47857229573873983\n",
      "\tRatio of negative samples:  0.5506859293432075\n",
      "\tRatio of negative samples:  0.6147869369916231\n",
      "\tRatio of negative samples:  0.686050746631055\n",
      "\tRatio of negative samples:  0.7539152604103436\n",
      "\tRatio of negative samples:  0.8208085468010198\n",
      "\tRatio of negative samples:  0.8914653393225689\n",
      "\tRatio of negative samples:  0.9595726599490105\n",
      "\tRatio of negative samples:  1.022945247055967\n",
      "!!! The number of new edges in the dataset is too high. The ratio is 0.4050394656952034\n",
      "\tRatio of new edges in the test set: 0.4050394656952034\n",
      "\tRatio of negative samples:  0.30728597449908923\n",
      "\tRatio of negative samples:  0.3641772920461445\n",
      "\tRatio of negative samples:  0.4245901639344262\n",
      "\tRatio of negative samples:  0.48870673952641164\n",
      "\tRatio of negative samples:  0.555069823922283\n",
      "\tRatio of negative samples:  0.6098967820279295\n",
      "\tRatio of negative samples:  0.6829386763812993\n",
      "\tRatio of negative samples:  0.7349119611414693\n",
      "\tRatio of negative samples:  0.803157255616272\n",
      "\tRatio of negative samples:  0.8506375227686703\n",
      "\tRatio of negative samples:  0.9293867638129933\n",
      "\tRatio of negative samples:  0.981056466302368\n",
      "\tRatio of negative samples:  1.0404978749241045\n",
      "!!! The number of new edges in the dataset is too high. The ratio is 0.3263579697239537\n",
      "\tRatio of new edges in the test set: 0.3263579697239537\n",
      "\tRatio of negative samples:  0.4179956285922448\n",
      "\tRatio of negative samples:  0.5049785477212013\n",
      "\tRatio of negative samples:  0.5884805310450902\n",
      "\tRatio of negative samples:  0.6742086942443131\n",
      "\tRatio of negative samples:  0.7645915971828705\n",
      "\tRatio of negative samples:  0.8381769610620902\n",
      "\tRatio of negative samples:  0.9218003723791791\n",
      "\tRatio of negative samples:  1.01295231927467\n",
      "!!! The number of new edges in the dataset is too high. The ratio is 0.33233151183970855\n",
      "\tRatio of new edges in the test set: 0.33233151183970855\n",
      "\tRatio of negative samples:  0.42477231329690346\n",
      "\tRatio of negative samples:  0.5101396478445659\n",
      "\tRatio of negative samples:  0.5924408014571949\n",
      "\tRatio of negative samples:  0.6800850030358228\n",
      "\tRatio of negative samples:  0.7519429265330905\n",
      "\tRatio of negative samples:  0.8487856709168184\n",
      "\tRatio of negative samples:  0.9260170006071645\n",
      "\tRatio of negative samples:  1.0064966605950212\n",
      "!!! The number of new edges in the dataset is too high. The ratio is 0.44238008500303583\n",
      "\tRatio of new edges in the test set: 0.44238008500303583\n",
      "\tRatio of negative samples:  0.5048451730418944\n",
      "\tRatio of negative samples:  0.607504553734062\n",
      "\tRatio of negative samples:  0.7122040072859745\n",
      "\tRatio of negative samples:  0.8079174256223437\n",
      "\tRatio of negative samples:  0.9067638129933212\n",
      "\tRatio of negative samples:  1.0087674559805708\n",
      "\tRatio of new edges in the test set: 0.14021453147136206\n",
      "\tRatio of negative samples:  0.47478243270592996\n",
      "\tRatio of negative samples:  0.5733252378061121\n",
      "\tRatio of negative samples:  0.6673750252985226\n",
      "\tRatio of negative samples:  0.7573568103622749\n",
      "\tRatio of negative samples:  0.8548269581056467\n",
      "\tRatio of negative samples:  0.9521351953045942\n",
      "\tRatio of negative samples:  1.0442825339000203\n",
      "\tRatio of new edges in the test set: 0.16618960881255962\n",
      "\tRatio of negative samples:  0.4857663283892792\n",
      "\tRatio of negative samples:  0.5860872582184058\n",
      "\tRatio of negative samples:  0.6843785237227861\n",
      "\tRatio of negative samples:  0.7762511926446353\n",
      "\tRatio of negative samples:  0.8787232197068263\n",
      "\tRatio of negative samples:  0.9714979616618961\n",
      "\tRatio of negative samples:  1.0816896521814554\n",
      "\tRatio of new edges in the test set: 0.21063416411159344\n",
      "\tRatio of negative samples:  0.498466956072979\n",
      "\tRatio of negative samples:  0.5970826629428372\n",
      "\tRatio of negative samples:  0.6970189126013175\n",
      "\tRatio of negative samples:  0.798685528672475\n",
      "\tRatio of negative samples:  0.8932181779545247\n",
      "\tRatio of negative samples:  0.9940803254303148\n",
      "\tRatio of negative samples:  1.0924379952035457\n",
      "\tRatio of new edges in the test set: 0.11225797746744924\n",
      "\tRatio of negative samples:  0.46925723537745395\n",
      "\tRatio of negative samples:  0.5621129326047359\n",
      "\tRatio of negative samples:  0.6508534034945692\n",
      "\tRatio of negative samples:  0.7466774607029616\n",
      "\tRatio of negative samples:  0.8378330972137894\n",
      "\tRatio of negative samples:  0.9287998380894555\n",
      "\tRatio of negative samples:  1.023638939485934\n",
      "\tRatio of new edges in the test set: 0.12769729572197058\n",
      "\tRatio of negative samples:  0.47989702614418767\n",
      "\tRatio of negative samples:  0.5801751041274544\n",
      "\tRatio of negative samples:  0.6769438136756081\n",
      "\tRatio of negative samples:  0.7728260737574528\n",
      "\tRatio of negative samples:  0.865648261709026\n",
      "\tRatio of negative samples:  0.965052033369358\n",
      "\tRatio of negative samples:  1.0644436618863158\n",
      "Split reddit by timestamps...\n",
      "\tRatio of new edges in the test set: 0.16090415644285821\n",
      "\tRatio of negative samples:  1.191315339430441\n",
      "\tRatio of new edges in the test set: 0.12829950182169678\n",
      "\tRatio of negative samples:  1.1826901628373856\n",
      "\tRatio of new edges in the test set: 0.18774630084021116\n",
      "\tRatio of negative samples:  1.1787493493940069\n",
      "\tRatio of new edges in the test set: 0.10037921035021191\n",
      "\tRatio of negative samples:  1.169678042977173\n",
      "\tRatio of new edges in the test set: 0.10525689642352591\n",
      "\tRatio of negative samples:  1.1678637816938062\n",
      "\tRatio of new edges in the test set: 0.10694723275584306\n",
      "\tRatio of negative samples:  1.168674250873671\n",
      "\tRatio of new edges in the test set: 0.10225932889327938\n",
      "\tRatio of negative samples:  1.164685637806316\n",
      "\tRatio of new edges in the test set: 0.10723845639080973\n",
      "\tRatio of negative samples:  1.163162688675738\n",
      "\tRatio of new edges in the test set: 0.1150519245544898\n",
      "\tRatio of negative samples:  1.16140811791046\n",
      "\tRatio of new edges in the test set: 0.1300691501226857\n",
      "\tRatio of negative samples:  1.157074875455424\n",
      "Split wikipedia by timestamps...\n",
      "!!! The number of new edges in the dataset is too high. The ratio is 0.31206349206349204\n",
      "\tRatio of new edges in the test set: 0.31206349206349204\n",
      "\tRatio of negative samples:  1.2285714285714286\n",
      "!!! The number of new edges in the dataset is too high. The ratio is 0.2798856961422448\n",
      "\tRatio of new edges in the test set: 0.2798856961422448\n",
      "\tRatio of negative samples:  1.2346404191141451\n",
      "\tRatio of new edges in the test set: 0.22425653508307758\n",
      "\tRatio of negative samples:  1.230183088157477\n",
      "\tRatio of new edges in the test set: 0.24948404508652167\n",
      "\tRatio of negative samples:  1.2317034449912685\n",
      "!!! The number of new edges in the dataset is too high. The ratio is 0.258255016510033\n",
      "\tRatio of new edges in the test set: 0.258255016510033\n",
      "\tRatio of negative samples:  1.2291719583439167\n"
     ]
    },
    {
     "name": "stdout",
     "output_type": "stream",
     "text": [
      "\tRatio of new edges in the test set: 0.23987934592792506\n",
      "\tRatio of negative samples:  1.230459861353654\n",
      "\tRatio of new edges in the test set: 0.2254728534494489\n",
      "\tRatio of negative samples:  1.2292828956320587\n",
      "\tRatio of new edges in the test set: 0.24722178123511668\n",
      "\tRatio of negative samples:  1.2333306874107002\n",
      "\tRatio of new edges in the test set: 0.21183899530814548\n",
      "\tRatio of negative samples:  1.229442269023177\n",
      "\tRatio of new edges in the test set: 0.18675980314335608\n",
      "\tRatio of negative samples:  1.228639466581997\n"
     ]
    }
   ],
   "source": [
    "time_split(data='../data', intervals=10)"
   ]
  },
  {
   "cell_type": "code",
   "execution_count": null,
   "id": "095683f9",
   "metadata": {},
   "outputs": [],
   "source": []
  }
 ],
 "metadata": {
  "kernelspec": {
   "display_name": "Python 3 (ipykernel)",
   "language": "python",
   "name": "python3"
  },
  "language_info": {
   "codemirror_mode": {
    "name": "ipython",
    "version": 3
   },
   "file_extension": ".py",
   "mimetype": "text/x-python",
   "name": "python",
   "nbconvert_exporter": "python",
   "pygments_lexer": "ipython3",
   "version": "3.7.9"
  },
  "toc": {
   "base_numbering": 1,
   "nav_menu": {},
   "number_sections": true,
   "sideBar": true,
   "skip_h1_title": false,
   "title_cell": "Table of Contents",
   "title_sidebar": "Contents",
   "toc_cell": false,
   "toc_position": {},
   "toc_section_display": true,
   "toc_window_display": false
  },
  "varInspector": {
   "cols": {
    "lenName": 16,
    "lenType": 16,
    "lenVar": 40
   },
   "kernels_config": {
    "python": {
     "delete_cmd_postfix": "",
     "delete_cmd_prefix": "del ",
     "library": "var_list.py",
     "varRefreshCmd": "print(var_dic_list())"
    },
    "r": {
     "delete_cmd_postfix": ") ",
     "delete_cmd_prefix": "rm(",
     "library": "var_list.r",
     "varRefreshCmd": "cat(var_dic_list()) "
    }
   },
   "types_to_exclude": [
    "module",
    "function",
    "builtin_function_or_method",
    "instance",
    "_Feature"
   ],
   "window_display": false
  }
 },
 "nbformat": 4,
 "nbformat_minor": 5
}
